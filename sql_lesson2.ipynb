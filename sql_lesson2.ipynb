{
 "cells": [
  {
   "cell_type": "markdown",
   "metadata": {},
   "source": [
    "CREATED BY:\n",
    "\n",
    "Lucas Mertens - \n",
    "lucas.mertens@fu-berlin.de\n",
    "\n",
    "CREATED ON:\n",
    "22.11.2023\n",
    "\n",
    "All Rights Reserved"
   ]
  },
  {
   "cell_type": "markdown",
   "metadata": {},
   "source": [
    "###############################"
   ]
  },
  {
   "cell_type": "markdown",
   "metadata": {},
   "source": [
    "Import the sql-lite library to connect with a DB and work with it:"
   ]
  },
  {
   "cell_type": "code",
   "execution_count": 1,
   "metadata": {},
   "outputs": [],
   "source": [
    "import sqlite3"
   ]
  },
  {
   "cell_type": "markdown",
   "metadata": {},
   "source": [
    "Let's create a simple new database with two relations:"
   ]
  },
  {
   "cell_type": "code",
   "execution_count": 6,
   "metadata": {},
   "outputs": [
    {
     "name": "stdout",
     "output_type": "stream",
     "text": [
      "(1, 'Fred Mueller', 'Manager', 50000.0)\n",
      "(2, 'Jane Smith', 'Developer', 60000.0)\n",
      "(3, 'Fred Mueller', 'Manager', 50000.0)\n",
      "(4, 'Jane Smith', 'Developer', 60000.0)\n",
      "(5, 'Fred Mueller', 'Manager', 50000.0)\n",
      "(6, 'Jane Smith', 'Developer', 60000.0)\n",
      "(7, 'Fred Mueller', 'Manager', 50000.0)\n",
      "(8, 'Jane Smith', 'Developer', 60000.0)\n",
      "(9, 'Fred Mueller', 'Manager', 50000.0)\n",
      "(10, 'Jane Smith', 'Developer', 60000.0)\n"
     ]
    }
   ],
   "source": [
    "# Connect to a database (or create it if it doesn't exist)\n",
    "# The with statement makes it a little easier, everything indented now is connected to the example.db\n",
    "with sqlite3.connect('example.db') as conn:\n",
    "    # Create a cursor object to execute SQL commands\n",
    "    cursor = conn.cursor()\n",
    "\n",
    "    # Execute a SQL command to create a table\n",
    "    cursor.execute('''\n",
    "    CREATE TABLE IF NOT EXISTS employees (\n",
    "        id INTEGER PRIMARY KEY,\n",
    "        name TEXT NOT NULL,\n",
    "        position TEXT,\n",
    "        salary REAL\n",
    "    )\n",
    "    ''')\n",
    "    # For now, the changes are only stored in cach, so they have to be committed \n",
    "    conn.commit()\n",
    "    \n",
    "    # Insert some sample data\n",
    "    cursor.execute(\"INSERT INTO employees (name, position, salary) VALUES ('Fred Mueller', 'Manager', 50000.00)\")\n",
    "    cursor.execute(\"INSERT INTO employees (name, position, salary) VALUES ('Jane Smith', 'Developer', 60000.00)\")\n",
    "\n",
    "    # Commit the changes\n",
    "    conn.commit()\n",
    "\n",
    "    # Execute a SELECT statement\n",
    "    cursor.execute(\"SELECT * FROM employees\")\n",
    "\n",
    "    # Fetch all the rows\n",
    "    rows = cursor.fetchall()\n",
    "    \n",
    "    # Print the results\n",
    "    for row in rows:\n",
    "        print(row)"
   ]
  },
  {
   "cell_type": "markdown",
   "metadata": {},
   "source": [
    "**Connection:**\n",
    "\n",
    " When you connect to a database using sqlite3.connect(), you get a connection object (conn). This connection represents a session with the database.\n",
    "\n",
    "**Cursor:**\n",
    "\n",
    " After obtaining a connection, you create a cursor object (cursor) using conn.cursor(). The cursor is used to execute SQL commands and navigate the result set\n",
    "\n",
    "**Database Operations:**\n",
    "\n",
    " You perform various database operations using the cursor, such as creating tables, inserting data, updating records, or querying data.\n",
    "\n",
    "**Commit:**\n",
    "\n",
    " Once you've made changes to the database (inserted, updated, or deleted records), you need to commit those changes to the database file. This is done by calling conn.commit(). Until you commit, the changes are only in memory, and the database file on disk remains unchanged.\n",
    "\n",
    "**Close Connection:**\n",
    "\n",
    " After committing, it's a good practice to close the connection using conn.close(). This ensures that the resources associated with the connection are released. This is NOT required if a with statement is used!"
   ]
  },
  {
   "cell_type": "markdown",
   "metadata": {},
   "source": [
    "Numeric Data Types:\n",
    "\n",
    "    INT or INTEGER:\n",
    "        Represents integer values (e.g., 1, 100, -45).\n",
    "\n",
    "    FLOAT or REAL:\n",
    "        Represents floating-point numbers (e.g., 3.14, -0.01).\n",
    "\n",
    "    DOUBLE:\n",
    "        Represents double-precision floating-point numbers.\n",
    "\n",
    "    DECIMAL or NUMERIC:\n",
    "        Represents fixed-point numbers with a specified precision and scale.\n",
    "\n",
    "Character String Data Types:\n",
    "\n",
    "    CHAR(n):\n",
    "        Fixed-length character string. It always reserves the same amount of storage, padding with spaces if necessary.\n",
    "\n",
    "    VARCHAR(n) or CHARACTER VARYING(n):\n",
    "        Variable-length character string. It only stores as much data as needed.\n",
    "\n",
    "    TEXT:\n",
    "        Variable-length character string with no specified maximum length.\n",
    "\n",
    "Date and Time Data Types:\n",
    "\n",
    "    DATE:\n",
    "        Represents a date (e.g., '2023-01-01').\n",
    "\n",
    "    TIME:\n",
    "        Represents a time of day (e.g., '12:30:00').\n",
    "\n",
    "    DATETIME or TIMESTAMP:\n",
    "        Represents a combination of date and time.\n",
    "\n",
    "Boolean Data Type:\n",
    "\n",
    "    BOOLEAN:\n",
    "        Represents true or false values."
   ]
  },
  {
   "cell_type": "markdown",
   "metadata": {},
   "source": [
    "Let's work with a new database \"product_database.db\". Since we are new to the project, we want to figure out what the db is about and what data we can fetch. To see all the tables in a DB we can use this command:\n",
    "\n",
    "    cursor.execute(\"SELECT name FROM sqlite_master WHERE type='table';\")"
   ]
  },
  {
   "cell_type": "code",
   "execution_count": 7,
   "metadata": {},
   "outputs": [
    {
     "name": "stdout",
     "output_type": "stream",
     "text": [
      "categories\n",
      "suppliers\n",
      "products\n"
     ]
    }
   ],
   "source": [
    "# Connect to the SQLite database\n",
    "with sqlite3.connect('product_database.db') as conn:\n",
    "\n",
    "    # Create a cursor object to execute SQL commands\n",
    "    cursor = conn.cursor()\n",
    "\n",
    "    # Query the sqlite_master table to get the names of all tables\n",
    "    cursor.execute(\"SELECT name FROM sqlite_master WHERE type='table';\")\n",
    "\n",
    "    # Fetch all the table names\n",
    "    tables = cursor.fetchall()\n",
    "\n",
    "    # Print the table names\n",
    "    for table in tables:\n",
    "        print(table[0])\n"
   ]
  },
  {
   "cell_type": "markdown",
   "metadata": {},
   "source": [
    "Now we know all the tables that exists! But we dont know the attributes and values yet..."
   ]
  },
  {
   "cell_type": "code",
   "execution_count": 8,
   "metadata": {},
   "outputs": [
    {
     "name": "stdout",
     "output_type": "stream",
     "text": [
      "category_id\n",
      "category_name\n",
      "description\n",
      "(1, 'Electronics', 'Electronic devices and gadgets')\n",
      "(2, 'Clothing', 'Various types of clothing items')\n",
      "(3, 'Appliances', 'Home appliances for daily use')\n",
      "(4, 'Books', 'Books of different genres')\n"
     ]
    }
   ],
   "source": [
    "# Connect to the SQLite database\n",
    "with sqlite3.connect('product_database.db') as conn:\n",
    "\n",
    "    # Create a cursor object to execute SQL commands\n",
    "    cursor = conn.cursor()\n",
    "\n",
    "    cursor.execute(f\"PRAGMA table_info(categories);\")\n",
    "\n",
    "    # Fetch all the schema information\n",
    "    columns = cursor.fetchall()\n",
    "\n",
    "    # Print the column names\n",
    "    for column in columns:\n",
    "        print(column[1])  # Index 1 contains the column name\n",
    "\n",
    "    # Query the sqlite_master table to get the names of all tables\n",
    "    cursor.execute(\"SELECT * FROM categories;\")\n",
    "\n",
    "    # Fetch all the rows\n",
    "    rows = cursor.fetchall()\n",
    "\n",
    "    # Print the results\n",
    "    for row in rows:\n",
    "        print(row)"
   ]
  },
  {
   "cell_type": "code",
   "execution_count": 9,
   "metadata": {},
   "outputs": [
    {
     "name": "stdout",
     "output_type": "stream",
     "text": [
      "supplier_id\n",
      "supplier_name\n",
      "contact_person\n",
      "phone_number\n",
      "(1, 'TechGadgets Inc.', 'John Tech', '123-456-7890')\n",
      "(2, 'FashionHub Ltd.', 'Jane Fashion', '987-654-3210')\n",
      "(3, 'HomeAppliance Co.', 'Bob Appliances', '555-123-4567')\n"
     ]
    }
   ],
   "source": [
    "# Connect to the SQLite database\n",
    "with sqlite3.connect('product_database.db') as conn:\n",
    "\n",
    "    # Create a cursor object to execute SQL commands\n",
    "    cursor = conn.cursor()\n",
    "\n",
    "    cursor.execute(f\"PRAGMA table_info(suppliers);\")\n",
    "\n",
    "    # Fetch all the schema information\n",
    "    columns = cursor.fetchall()\n",
    "\n",
    "    # Print the column names\n",
    "    for column in columns:\n",
    "        print(column[1])  # Index 1 contains the column name\n",
    "\n",
    "    # Query the sqlite_master table to get the names of all tables\n",
    "    cursor.execute(\"SELECT * FROM suppliers;\")\n",
    "\n",
    "    # Fetch all the rows\n",
    "    rows = cursor.fetchall()\n",
    "\n",
    "    # Print the results\n",
    "    for row in rows:\n",
    "        print(row)"
   ]
  },
  {
   "cell_type": "code",
   "execution_count": 21,
   "metadata": {},
   "outputs": [
    {
     "name": "stdout",
     "output_type": "stream",
     "text": [
      "product_id\n",
      "product_name\n",
      "quantity\n",
      "price\n",
      "category_id\n",
      "supplier_id\n",
      "(1, 'Laptop', 20, 999.99, 1, 1)\n",
      "(2, 'Smartphone', 30, 599.99, 1, 1)\n",
      "(3, 'T-shirt', 50, 19.99, 2, 2)\n",
      "(4, 'Jeans', 40, 39.99, 2, 2)\n",
      "(5, 'Refrigerator', 10, 899.99, 3, 3)\n",
      "(6, 'Washing Machine', 15, 499.99, 3, 3)\n",
      "(7, 'Headphones', 25, 79.99, 1, 1)\n",
      "(8, 'Dress Shirt', 35, 29.99, 2, 2)\n",
      "(9, 'Microwave', 12, 129.99, 3, 3)\n",
      "(10, 'Blender', 18, 49.99, 3, 3)\n",
      "(11, 'Tablet', 15, 299.99, 1, 1)\n"
     ]
    }
   ],
   "source": [
    "# Connect to the SQLite database\n",
    "with sqlite3.connect('product_database.db') as conn:\n",
    "\n",
    "    # Create a cursor object to execute SQL commands\n",
    "    cursor = conn.cursor()\n",
    "\n",
    "    cursor.execute(f\"PRAGMA table_info(products);\")\n",
    "\n",
    "    # Fetch all the schema information\n",
    "    columns = cursor.fetchall()\n",
    "\n",
    "    # Print the column names\n",
    "    for column in columns:\n",
    "        print(column[1])  # Index 1 contains the column name\n",
    "\n",
    "    # Query the sqlite_master table to get the names of all tables\n",
    "    cursor.execute(\"SELECT * FROM products;\")\n",
    "\n",
    "    # Fetch all the rows\n",
    "    rows = cursor.fetchall()\n",
    "\n",
    "    # Print the results\n",
    "    for row in rows:\n",
    "        print(row)"
   ]
  },
  {
   "cell_type": "markdown",
   "metadata": {},
   "source": [
    "Okay nice! Now we can get an idea how the db is structured!"
   ]
  },
  {
   "attachments": {
    "image.png": {
     "image/png": "[encoded data removed]"
    }
   },
   "cell_type": "markdown",
   "metadata": {},
   "source": [
    "![image.png](attachment:image.png)"
   ]
  },
  {
   "cell_type": "markdown",
   "metadata": {},
   "source": [
    "Let's fetch some data! We want to know the category of Laptops and also the supplier. So we need information of all three relations (=tables)!\n",
    "\n",
    "Let's start to see all the products with the name \"Laptop\"! We can specify conditions with the WHERE statement. Just specify WHERE after the FROM and give conditions for attributes (=columns) from the relation (=table)."
   ]
  },
  {
   "cell_type": "code",
   "execution_count": 12,
   "metadata": {},
   "outputs": [
    {
     "name": "stdout",
     "output_type": "stream",
     "text": [
      "(1, 'Laptop', 20, 999.99, 1, 1)\n"
     ]
    }
   ],
   "source": [
    "# Connect to the SQLite database\n",
    "with sqlite3.connect('product_database.db') as conn:\n",
    "    # Create a cursor object to execute SQL commands\n",
    "    cursor = conn.cursor()\n",
    "\n",
    "\n",
    "    # Query to retrieve the category for the specified product\n",
    "    cursor.execute('''\n",
    "        SELECT *\n",
    "        FROM products\n",
    "        WHERE products.product_name = 'Laptop';\n",
    "    ''')\n",
    "\n",
    "    # Fetch all the rows\n",
    "    rows = cursor.fetchall()\n",
    "\n",
    "    # Print the results\n",
    "    for row in rows:\n",
    "        print(row)\n"
   ]
  },
  {
   "cell_type": "markdown",
   "metadata": {},
   "source": [
    "Let's get the category of a product! We now need to JOIN tables. For joining tables, it is essential to understand the structure of the DB. Basic rule: ONLY JOIN ON KEYS!\n",
    "\n",
    "Syntax: \n",
    "\n",
    "SELECT *\n",
    "\n",
    "FROM TABLE1\n",
    "\n",
    "JOIN TABLE2 ON TABLE1.FOREIGN_KEY = TABLE2.PRIMARY_KEY"
   ]
  },
  {
   "cell_type": "code",
   "execution_count": 18,
   "metadata": {},
   "outputs": [
    {
     "name": "stdout",
     "output_type": "stream",
     "text": [
      "('Laptop', 'Electronics')\n"
     ]
    }
   ],
   "source": [
    "# Connect to the SQLite database\n",
    "with sqlite3.connect('product_database.db') as conn:\n",
    "    # Create a cursor object to execute SQL commands\n",
    "    cursor = conn.cursor()\n",
    "\n",
    "    # Query to retrieve the category for the specified product\n",
    "    cursor.execute('''\n",
    "        SELECT products.product_name, categories.category_name\n",
    "        FROM products\n",
    "        JOIN categories ON products.category_id = categories.category_id\n",
    "        WHERE products.product_name = 'Laptop';\n",
    "    ''')\n",
    "\n",
    "    # Fetch all the rows\n",
    "    rows = cursor.fetchall()\n",
    "\n",
    "    # Print the results\n",
    "    for row in rows:\n",
    "        print(row)\n"
   ]
  },
  {
   "cell_type": "markdown",
   "metadata": {},
   "source": [
    "Nice! Now let's get the supplier!"
   ]
  },
  {
   "cell_type": "code",
   "execution_count": 17,
   "metadata": {},
   "outputs": [
    {
     "name": "stdout",
     "output_type": "stream",
     "text": [
      "(1, 'Laptop', 20, 999.99, 1, 1, 1, 'TechGadgets Inc.', 'John Tech', '123-456-7890')\n"
     ]
    }
   ],
   "source": [
    "# Connect to the SQLite database\n",
    "with sqlite3.connect('product_database.db') as conn:\n",
    "    # Create a cursor object to execute SQL commands\n",
    "    cursor = conn.cursor()\n",
    "\n",
    "    # Query to retrieve the supplier for the specified product\n",
    "    cursor.execute('''\n",
    "        SELECT *\n",
    "        FROM products\n",
    "        JOIN suppliers ON products.supplier_id = suppliers.supplier_id\n",
    "        WHERE products.product_name = 'Laptop';\n",
    "    ''')\n",
    "\n",
    "    # Fetch all the rows\n",
    "    rows = cursor.fetchall()\n",
    "\n",
    "    # Print the results\n",
    "    for row in rows:\n",
    "        print(row)"
   ]
  },
  {
   "cell_type": "markdown",
   "metadata": {},
   "source": [
    "Perfect! If we want it all together, we can join muliple tables in the same command:"
   ]
  },
  {
   "cell_type": "code",
   "execution_count": 19,
   "metadata": {},
   "outputs": [
    {
     "name": "stdout",
     "output_type": "stream",
     "text": [
      "(1, 'Laptop', 20, 999.99, 1, 1, 1, 'Electronics', 'Electronic devices and gadgets', 1, 'TechGadgets Inc.', 'John Tech', '123-456-7890')\n"
     ]
    }
   ],
   "source": [
    "# Connect to the SQLite database\n",
    "with sqlite3.connect('product_database.db') as conn:\n",
    "    # Create a cursor object to execute SQL commands\n",
    "    cursor = conn.cursor()\n",
    "\n",
    "    # Query to retrieve the supplier for the specified product\n",
    "    cursor.execute('''\n",
    "        SELECT *\n",
    "        FROM products\n",
    "        JOIN categories ON products.category_id = categories.category_id\n",
    "        JOIN suppliers ON products.supplier_id = suppliers.supplier_id\n",
    "        WHERE products.product_name = 'Laptop';\n",
    "    ''')\n",
    "\n",
    "    # Fetch all the rows\n",
    "    rows = cursor.fetchall()\n",
    "\n",
    "    # Print the results\n",
    "    for row in rows:\n",
    "        print(row)"
   ]
  },
  {
   "cell_type": "markdown",
   "metadata": {},
   "source": [
    "Lastly, let's add a new product!"
   ]
  },
  {
   "cell_type": "code",
   "execution_count": 20,
   "metadata": {},
   "outputs": [
    {
     "name": "stdout",
     "output_type": "stream",
     "text": [
      "New product added successfully.\n"
     ]
    }
   ],
   "source": [
    "# Connect to the SQLite database\n",
    "with sqlite3.connect('product_database.db') as conn:\n",
    "    # Create a cursor object to execute SQL commands\n",
    "    cursor = conn.cursor()\n",
    "\n",
    "    # Insert the new product into the Products table\n",
    "    cursor.execute('''\n",
    "        INSERT INTO products (product_name, quantity, price, category_id, supplier_id)\n",
    "        VALUES ('Tablet', 15,  299.99, 1, 1);\n",
    "    ''')\n",
    "\n",
    "    # Commit the changes\n",
    "    conn.commit()\n",
    "\n",
    "    print(\"New product added successfully.\")"
   ]
  },
  {
   "cell_type": "markdown",
   "metadata": {},
   "source": [
    "Now it is your time to shine! There is a new database: university_database.db\n",
    "Try to figure out what the database is about and write down a relational model! Execute useful statements that contain the following commands:\n",
    "\n",
    "SELECT\n",
    "\n",
    "WHERE\n",
    "\n",
    "JOIN\n",
    "\n",
    "Can you tell me what courses student Mike is enrolled to and what professors will be teaching him?\n",
    "\n",
    "Add a new student to the database end enroll him to at least one class."
   ]
  },
  {
   "cell_type": "code",
   "execution_count": null,
   "metadata": {},
   "outputs": [],
   "source": [
    "# Connect to the SQLite database\n",
    "with sqlite3.connect('practice_database.db') as conn:\n",
    "    # Create a cursor object to execute SQL commands\n",
    "    cursor = conn.cursor()\n",
    "\n",
    "    # Create the Orders table\n",
    "    cursor.execute('''\n",
    "        CREATE TABLE IF NOT EXISTS orders (\n",
    "            order_id INTEGER PRIMARY KEY,\n",
    "            customer_id INTEGER,\n",
    "            product_name TEXT,\n",
    "            order_amount REAL\n",
    "        )\n",
    "    ''')\n",
    "\n",
    "    # Insert data into the Orders table\n",
    "    cursor.executemany(\"INSERT INTO orders (customer_id, product_name, order_amount) VALUES (?, ?, ?)\", [\n",
    "        (1, 'Laptop', 1200.00),\n",
    "        (2, 'Smartphone', 599.99),\n",
    "        (1, 'Tablet', 349.99),\n",
    "        (3, 'Headphones', 99.99),\n",
    "        (2, 'Smartwatch', 199.99),\n",
    "        (3, 'Speaker', 79.99),\n",
    "        (1, 'Monitor', 299.99),\n",
    "        (2, 'Laptop', 1500.00),\n",
    "        (3, 'Tablet', 449.99),\n",
    "        (1, 'Keyboard', 49.99),\n",
    "    ])\n",
    "\n",
    "    # Commit the changes\n",
    "    conn.commit()"
   ]
  },
  {
   "cell_type": "code",
   "execution_count": null,
   "metadata": {},
   "outputs": [],
   "source": [
    "# Connect to the SQLite database\n",
    "with sqlite3.connect('practice_database.db') as conn:\n",
    "    # Create a cursor object to execute SQL commands\n",
    "    cursor = conn.cursor()\n",
    "    # Query to calculate the average order amount for each customer\n",
    "    cursor.execute('''\n",
    "        SELECT customer_id, AVG(order_amount) AS average_order_amount\n",
    "        FROM orders\n",
    "        GROUP BY customer_id;\n",
    "    ''')\n",
    "\n",
    "    # Fetch the result\n",
    "    results = cursor.fetchall()\n",
    "\n",
    "    # Print the result\n",
    "    print(\"Average order amount for each customer:\")\n",
    "    for result in results:\n",
    "        customer_id, average_order_amount = result\n",
    "        print(f\"Customer ID: {customer_id}, Average Order Amount: ${average_order_amount:.2f}\")"
   ]
  },
  {
   "cell_type": "code",
   "execution_count": null,
   "metadata": {},
   "outputs": [],
   "source": [
    "# Connect to the SQLite database\n",
    "with sqlite3.connect('practice_database.db') as conn:\n",
    "    # Create a cursor object to execute SQL commands\n",
    "    # Query to find out how many orders each customer has placed\n",
    "    cursor.execute('''\n",
    "        SELECT customer_id, COUNT(order_id) AS total_orders\n",
    "        FROM orders\n",
    "        GROUP BY customer_id;\n",
    "    ''')\n",
    "\n",
    "    # Fetch the result\n",
    "    results = cursor.fetchall()\n",
    "\n",
    "    # Print the result\n",
    "    print(\"\\nTotal number of orders placed by each customer:\")\n",
    "    for result in results:\n",
    "        customer_id, total_orders = result\n",
    "        print(f\"Customer ID: {customer_id}, Total Orders: {total_orders}\")"
   ]
  },
  {
   "cell_type": "markdown",
   "metadata": {},
   "source": [
    "Now let's practice! First we create a new practice DB:"
   ]
  },
  {
   "cell_type": "code",
   "execution_count": 25,
   "metadata": {},
   "outputs": [],
   "source": [
    "with sqlite3.connect('practice_database.db') as conn:\n",
    "    # Create a cursor object to execute SQL commands\n",
    "    cursor = conn.cursor()\n",
    "\n",
    "    # Create the Employees table\n",
    "    cursor.execute('''\n",
    "        CREATE TABLE IF NOT EXISTS employees (\n",
    "            employee_id INTEGER PRIMARY KEY,\n",
    "            department_id INTEGER,\n",
    "            salary REAL\n",
    "        )\n",
    "    ''')\n",
    "\n",
    "    # Insert data into the Employees table\n",
    "    cursor.executemany(\"INSERT INTO employees (department_id, salary) VALUES (?, ?)\", [\n",
    "        (1, 50000.00),\n",
    "        (2, 60000.00),\n",
    "        (1, 55000.00),\n",
    "        (3, 70000.00),\n",
    "        (2, 62000.00),\n",
    "        (1, 58000.00),\n",
    "        (3, 72000.00),\n",
    "        (2, 63000.00),\n",
    "        (3, 75000.00),\n",
    "        (1, 59000.00),\n",
    "    ])\n",
    "\n",
    "    # Commit the changes\n",
    "    conn.commit()"
   ]
  },
  {
   "cell_type": "markdown",
   "metadata": {},
   "source": [
    "Query1: Calculate the average salary for each department"
   ]
  },
  {
   "cell_type": "markdown",
   "metadata": {},
   "source": [
    "Query2: Find out how many employees are in each department"
   ]
  },
  {
   "cell_type": "markdown",
   "metadata": {},
   "source": [
    "#######################################################################\n",
    "\n",
    "ONLY if you are interested, the command to create our product_database:"
   ]
  },
  {
   "cell_type": "code",
   "execution_count": 1,
   "metadata": {},
   "outputs": [],
   "source": [
    "import sqlite3\n",
    "\n",
    "# Connect to a database file (or create it if it doesn't exist)\n",
    "conn = sqlite3.connect('product_database.db')\n",
    "\n",
    "# Create a cursor object to execute SQL commands\n",
    "cursor = conn.cursor()\n",
    "\n",
    "# Create the Categories table with a new attribute 'description'\n",
    "cursor.execute('''\n",
    "    CREATE TABLE IF NOT EXISTS categories (\n",
    "        category_id INTEGER PRIMARY KEY,\n",
    "        category_name TEXT NOT NULL,\n",
    "        description TEXT\n",
    "    )\n",
    "''')\n",
    "\n",
    "# Create the Suppliers table\n",
    "cursor.execute('''\n",
    "    CREATE TABLE IF NOT EXISTS suppliers (\n",
    "        supplier_id INTEGER PRIMARY KEY,\n",
    "        supplier_name TEXT NOT NULL,\n",
    "        contact_person TEXT,\n",
    "        phone_number TEXT\n",
    "    )\n",
    "''')\n",
    "\n",
    "# Create the Products table with foreign keys to Categories and Suppliers\n",
    "cursor.execute('''\n",
    "    CREATE TABLE IF NOT EXISTS products (\n",
    "        product_id INTEGER PRIMARY KEY,\n",
    "        product_name TEXT NOT NULL,\n",
    "        quantity INTEGER,\n",
    "        price REAL,\n",
    "        category_id INTEGER,\n",
    "        supplier_id INTEGER,\n",
    "        FOREIGN KEY (category_id) REFERENCES categories(category_id),\n",
    "        FOREIGN KEY (supplier_id) REFERENCES suppliers(supplier_id)\n",
    "    )\n",
    "''')\n",
    "\n",
    "# Insert data into the Categories table with descriptions\n",
    "cursor.executemany(\"INSERT INTO categories (category_name, description) VALUES (?, ?)\",\n",
    "                   [('Electronics', 'Electronic devices and gadgets'),\n",
    "                    ('Clothing', 'Various types of clothing items'),\n",
    "                    ('Appliances', 'Home appliances for daily use'),\n",
    "                    ('Books', 'Books of different genres')])\n",
    "\n",
    "# Insert data into the Suppliers table\n",
    "cursor.executemany(\"INSERT INTO suppliers (supplier_name, contact_person, phone_number) VALUES (?, ?, ?)\",\n",
    "                   [('TechGadgets Inc.', 'John Tech', '123-456-7890'),\n",
    "                    ('FashionHub Ltd.', 'Jane Fashion', '987-654-3210'),\n",
    "                    ('HomeAppliance Co.', 'Bob Appliances', '555-123-4567')])\n",
    "\n",
    "# Insert data into the Products table\n",
    "cursor.executemany(\"INSERT INTO products (product_name, quantity, price, category_id, supplier_id) VALUES (?, ?, ?, ?, ?)\",\n",
    "                   [('Laptop', 20, 999.99, 1, 1),\n",
    "                    ('Smartphone', 30, 599.99, 1, 1),\n",
    "                    ('T-shirt', 50, 19.99, 2, 2),\n",
    "                    ('Jeans', 40, 39.99, 2, 2),\n",
    "                    ('Refrigerator', 10, 899.99, 3, 3),\n",
    "                    ('Washing Machine', 15, 499.99, 3, 3),\n",
    "                    ('Headphones', 25, 79.99, 1, 1),\n",
    "                    ('Dress Shirt', 35, 29.99, 2, 2),\n",
    "                    ('Microwave', 12, 129.99, 3, 3),\n",
    "                    ('Blender', 18, 49.99, 3, 3)])\n",
    "\n",
    "# Commit the changes\n",
    "conn.commit()\n",
    "\n",
    "# Close the connection\n",
    "conn.close()"
   ]
  },
  {
   "cell_type": "markdown",
   "metadata": {},
   "source": [
    "And the command to create our students DB"
   ]
  },
  {
   "cell_type": "code",
   "execution_count": 32,
   "metadata": {},
   "outputs": [
    {
     "name": "stdout",
     "output_type": "stream",
     "text": [
      "Database created and populated successfully.\n"
     ]
    }
   ],
   "source": [
    "import sqlite3\n",
    "\n",
    "# Connect to the SQLite database\n",
    "with sqlite3.connect('university_database.db') as conn:\n",
    "    # Create a cursor object to execute SQL commands\n",
    "    cursor = conn.cursor()\n",
    "\n",
    "    # Create the Students table\n",
    "    cursor.execute('''\n",
    "        CREATE TABLE IF NOT EXISTS students (\n",
    "            student_id INTEGER PRIMARY KEY,\n",
    "            first_name TEXT NOT NULL,\n",
    "            last_name TEXT NOT NULL,\n",
    "            birthdate DATE,\n",
    "            email TEXT\n",
    "        )\n",
    "    ''')\n",
    "\n",
    "    # Create the Courses table\n",
    "    cursor.execute('''\n",
    "        CREATE TABLE IF NOT EXISTS courses (\n",
    "            course_id INTEGER PRIMARY KEY,\n",
    "            course_name TEXT NOT NULL,\n",
    "            department TEXT\n",
    "        )\n",
    "    ''')\n",
    "\n",
    "    # Create the Instructors table\n",
    "    cursor.execute('''\n",
    "        CREATE TABLE IF NOT EXISTS instructors (\n",
    "            instructor_id INTEGER PRIMARY KEY,\n",
    "            first_name TEXT NOT NULL,\n",
    "            last_name TEXT NOT NULL,\n",
    "            email TEXT\n",
    "        )\n",
    "    ''')\n",
    "\n",
    "    # Create the Enrollments table (junction table)\n",
    "    cursor.execute('''\n",
    "        CREATE TABLE IF NOT EXISTS enrollments (\n",
    "            enrollment_id INTEGER PRIMARY KEY,\n",
    "            student_id INTEGER,\n",
    "            course_id INTEGER,\n",
    "            FOREIGN KEY (student_id) REFERENCES students(student_id),\n",
    "            FOREIGN KEY (course_id) REFERENCES courses(course_id)\n",
    "        )\n",
    "    ''')\n",
    "\n",
    "    # Insert data into the Students table\n",
    "    cursor.executemany(\"INSERT INTO students (first_name, last_name, birthdate, email) VALUES (?, ?, ?, ?)\", [\n",
    "        ('John', 'Doe', '1990-05-15', 'john.doe@example.com'),\n",
    "        ('Jane', 'Smith', '1992-08-22', 'jane.smith@example.com'),\n",
    "        ('Mike', 'Johnson', '1991-03-10', 'mike.johnson@example.com'),\n",
    "        ('Emily', 'Williams', '1993-11-05', 'emily.williams@example.com')\n",
    "    ])\n",
    "\n",
    "    # Insert data into the Courses table\n",
    "    cursor.executemany(\"INSERT INTO courses (course_name, department) VALUES (?, ?)\", [\n",
    "        ('Introduction to Programming', 'Computer Science'),\n",
    "        ('Mathematics I', 'Mathematics'),\n",
    "        ('History of Art', 'Art'),\n",
    "        ('Chemistry Basics', 'Chemistry')\n",
    "    ])\n",
    "\n",
    "    # Insert data into the Instructors table\n",
    "    cursor.executemany(\"INSERT INTO instructors (first_name, last_name, email) VALUES (?, ?, ?)\", [\n",
    "        ('Professor', 'Johnson', 'prof.johnson@example.com'),\n",
    "        ('Professor', 'Smith', 'prof.smith@example.com'),\n",
    "        ('Professor', 'Williams', 'prof.williams@example.com'),\n",
    "        ('Professor', 'Doe', 'prof.doe@example.com')\n",
    "    ])\n",
    "\n",
    "    # Insert data into the Enrollments table\n",
    "    cursor.executemany(\"INSERT INTO enrollments (student_id, course_id) VALUES (?, ?)\", [\n",
    "        (1, 1), (1, 2), (2, 2), (3, 3),\n",
    "        (3, 1), (4, 4), (4, 3), (2, 4)\n",
    "    ])\n",
    "\n",
    "    # Commit the changes\n",
    "    conn.commit()\n",
    "\n",
    "    print(\"Database created and populated successfully.\")\n"
   ]
  }
 ],
 "metadata": {
  "kernelspec": {
   "display_name": "Python 3",
   "language": "python",
   "name": "python3"
  },
  "language_info": {
   "codemirror_mode": {
    "name": "ipython",
    "version": 3
   },
   "file_extension": ".py",
   "mimetype": "text/x-python",
   "name": "python",
   "nbconvert_exporter": "python",
   "pygments_lexer": "ipython3",
   "version": "3.11.5"
  }
 },
 "nbformat": 4,
 "nbformat_minor": 2
}
